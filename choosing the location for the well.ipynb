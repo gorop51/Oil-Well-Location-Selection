{
 "cells": [
  {
   "cell_type": "markdown",
   "metadata": {},
   "source": [
    "# Выбор локации для скважины"
   ]
  },
  {
   "cell_type": "markdown",
   "metadata": {},
   "source": [
    "Допустим, вы работаете в добывающей компании «ГлавРосГосНефть». Нужно решить, где бурить новую скважину.\n",
    "\n",
    "Вам предоставлены пробы нефти в трёх регионах: в каждом 10 000 месторождений, где измерили качество нефти и объём её запасов. Постройте модель машинного обучения, которая поможет определить регион, где добыча принесёт наибольшую прибыль. Проанализируйте возможную прибыль и риски техникой *Bootstrap.*\n",
    "\n",
    "Шаги для выбора локации:\n",
    "\n",
    "- В избранном регионе ищут месторождения, для каждого определяют значения признаков;\n",
    "- Строят модель и оценивают объём запасов;\n",
    "- Выбирают месторождения с самым высокими оценками значений. Количество месторождений зависит от бюджета компании и стоимости разработки одной скважины;\n",
    "- Прибыль равна суммарной прибыли отобранных месторождений."
   ]
  },
  {
   "cell_type": "markdown",
   "metadata": {
    "toc": true
   },
   "source": [
    "<h1>Содержание<span class=\"tocSkip\"></span></h1>\n",
    "<div class=\"toc\"><ul class=\"toc-item\"><li><span><a href=\"#Описание-данных\" data-toc-modified-id=\"Описание-данных-1\"><span class=\"toc-item-num\">1&nbsp;&nbsp;</span>Описание данных</a></span></li><li><span><a href=\"#Загрузка-и-подготовка-данных\" data-toc-modified-id=\"Загрузка-и-подготовка-данных-2\"><span class=\"toc-item-num\">2&nbsp;&nbsp;</span>Загрузка и подготовка данных</a></span><ul class=\"toc-item\"><li><span><a href=\"#Подключение-библиотек\" data-toc-modified-id=\"Подключение-библиотек-2.1\"><span class=\"toc-item-num\">2.1&nbsp;&nbsp;</span>Подключение библиотек</a></span></li><li><span><a href=\"#Подключение-датафреймов\" data-toc-modified-id=\"Подключение-датафреймов-2.2\"><span class=\"toc-item-num\">2.2&nbsp;&nbsp;</span>Подключение датафреймов</a></span></li><li><span><a href=\"#Исследование-данных\" data-toc-modified-id=\"Исследование-данных-2.3\"><span class=\"toc-item-num\">2.3&nbsp;&nbsp;</span>Исследование данных</a></span></li><li><span><a href=\"#Предобработка-данных\" data-toc-modified-id=\"Предобработка-данных-2.4\"><span class=\"toc-item-num\">2.4&nbsp;&nbsp;</span>Предобработка данных</a></span></li></ul></li><li><span><a href=\"#Обучение-и-проверка-модели\" data-toc-modified-id=\"Обучение-и-проверка-модели-3\"><span class=\"toc-item-num\">3&nbsp;&nbsp;</span>Обучение и проверка модели</a></span></li><li><span><a href=\"#Подготовка-к-расчёту-прибыли\" data-toc-modified-id=\"Подготовка-к-расчёту-прибыли-4\"><span class=\"toc-item-num\">4&nbsp;&nbsp;</span>Подготовка к расчёту прибыли</a></span></li><li><span><a href=\"#Функция-для-расчета-прибыли\" data-toc-modified-id=\"Функция-для-расчета-прибыли-5\"><span class=\"toc-item-num\">5&nbsp;&nbsp;</span>Функция для расчета прибыли</a></span></li><li><span><a href=\"#Расчёт-прибыли-и-рисков\" data-toc-modified-id=\"Расчёт-прибыли-и-рисков-6\"><span class=\"toc-item-num\">6&nbsp;&nbsp;</span>Расчёт прибыли и рисков</a></span><ul class=\"toc-item\"><li><span><a href=\"#Первый-регион\" data-toc-modified-id=\"Первый-регион-6.1\"><span class=\"toc-item-num\">6.1&nbsp;&nbsp;</span>Первый регион</a></span></li></ul></li><li><span><a href=\"#Чек-лист-готовности-проекта\" data-toc-modified-id=\"Чек-лист-готовности-проекта-7\"><span class=\"toc-item-num\">7&nbsp;&nbsp;</span>Чек-лист готовности проекта</a></span></li></ul></div>"
   ]
  },
  {
   "cell_type": "markdown",
   "metadata": {},
   "source": [
    "## Описание данных"
   ]
  },
  {
   "cell_type": "markdown",
   "metadata": {},
   "source": [
    "**Признаки:**\n",
    " - <font style=\"font-style: italic;\">id</font> — уникальный идентификатор скважины\n",
    " - <font style=\"font-style: italic;\">f0</font> — первый признак точек\n",
    " - <font style=\"font-style: italic;\">f1</font> — второй признак точек\n",
    " - <font style=\"font-style: italic;\">f2</font> — третий признак точек\n"
   ]
  },
  {
   "cell_type": "markdown",
   "metadata": {},
   "source": [
    "**Целевой признак:**\n",
    "- <font style=\"font-style: italic;\">product</font> — объём запасов в скважине (тыс. баррелей)"
   ]
  },
  {
   "cell_type": "markdown",
   "metadata": {},
   "source": [
    "## Загрузка и подготовка данных"
   ]
  },
  {
   "cell_type": "markdown",
   "metadata": {},
   "source": [
    "### Подключение библиотек"
   ]
  },
  {
   "cell_type": "code",
   "execution_count": 1,
   "metadata": {
    "scrolled": true
   },
   "outputs": [],
   "source": [
    "import pandas as pd\n",
    "from sklearn.model_selection import train_test_split\n",
    "from sklearn.preprocessing import StandardScaler\n",
    "from sklearn.linear_model import LinearRegression\n",
    "from sklearn.metrics import mean_squared_error\n",
    "from numpy.random import RandomState\n",
    "from matplotlib import pyplot as plt"
   ]
  },
  {
   "cell_type": "markdown",
   "metadata": {},
   "source": [
    "### Подключение датафреймов"
   ]
  },
  {
   "cell_type": "code",
   "execution_count": 2,
   "metadata": {
    "scrolled": true
   },
   "outputs": [],
   "source": [
    "data_1 = pd.read_csv('/datasets/geo_data_0.csv')\n",
    "data_2 = pd.read_csv('/datasets/geo_data_1.csv')\n",
    "data_3 = pd.read_csv('/datasets/geo_data_2.csv')"
   ]
  },
  {
   "cell_type": "markdown",
   "metadata": {},
   "source": [
    "### Исследование данных"
   ]
  },
  {
   "cell_type": "code",
   "execution_count": 3,
   "metadata": {
    "scrolled": true
   },
   "outputs": [],
   "source": [
    "def research(data):\n",
    "    print(data.head())\n",
    "    print()\n",
    "    print(data.info())\n",
    "    print()\n",
    "    print(data.corr())"
   ]
  },
  {
   "cell_type": "code",
   "execution_count": 4,
   "metadata": {},
   "outputs": [
    {
     "name": "stdout",
     "output_type": "stream",
     "text": [
      "      id        f0        f1        f2     product\n",
      "0  txEyH  0.705745 -0.497823  1.221170  105.280062\n",
      "1  2acmU  1.334711 -0.340164  4.365080   73.037750\n",
      "2  409Wp  1.022732  0.151990  1.419926   85.265647\n",
      "3  iJLyR -0.032172  0.139033  2.978566  168.620776\n",
      "4  Xdl7t  1.988431  0.155413  4.751769  154.036647\n",
      "\n",
      "<class 'pandas.core.frame.DataFrame'>\n",
      "RangeIndex: 100000 entries, 0 to 99999\n",
      "Data columns (total 5 columns):\n",
      " #   Column   Non-Null Count   Dtype  \n",
      "---  ------   --------------   -----  \n",
      " 0   id       100000 non-null  object \n",
      " 1   f0       100000 non-null  float64\n",
      " 2   f1       100000 non-null  float64\n",
      " 3   f2       100000 non-null  float64\n",
      " 4   product  100000 non-null  float64\n",
      "dtypes: float64(4), object(1)\n",
      "memory usage: 3.8+ MB\n",
      "None\n",
      "\n",
      "               f0        f1        f2   product\n",
      "f0       1.000000 -0.440723 -0.003153  0.143536\n",
      "f1      -0.440723  1.000000  0.001724 -0.192356\n",
      "f2      -0.003153  0.001724  1.000000  0.483663\n",
      "product  0.143536 -0.192356  0.483663  1.000000\n"
     ]
    }
   ],
   "source": [
    "research(data_1)"
   ]
  },
  {
   "cell_type": "code",
   "execution_count": 5,
   "metadata": {
    "scrolled": true
   },
   "outputs": [
    {
     "name": "stdout",
     "output_type": "stream",
     "text": [
      "      id         f0         f1        f2     product\n",
      "0  kBEdx -15.001348  -8.276000 -0.005876    3.179103\n",
      "1  62mP7  14.272088  -3.475083  0.999183   26.953261\n",
      "2  vyE1P   6.263187  -5.948386  5.001160  134.766305\n",
      "3  KcrkZ -13.081196 -11.506057  4.999415  137.945408\n",
      "4  AHL4O  12.702195  -8.147433  5.004363  134.766305\n",
      "\n",
      "<class 'pandas.core.frame.DataFrame'>\n",
      "RangeIndex: 100000 entries, 0 to 99999\n",
      "Data columns (total 5 columns):\n",
      " #   Column   Non-Null Count   Dtype  \n",
      "---  ------   --------------   -----  \n",
      " 0   id       100000 non-null  object \n",
      " 1   f0       100000 non-null  float64\n",
      " 2   f1       100000 non-null  float64\n",
      " 3   f2       100000 non-null  float64\n",
      " 4   product  100000 non-null  float64\n",
      "dtypes: float64(4), object(1)\n",
      "memory usage: 3.8+ MB\n",
      "None\n",
      "\n",
      "               f0        f1        f2   product\n",
      "f0       1.000000  0.182287 -0.001777 -0.030491\n",
      "f1       0.182287  1.000000 -0.002595 -0.010155\n",
      "f2      -0.001777 -0.002595  1.000000  0.999397\n",
      "product -0.030491 -0.010155  0.999397  1.000000\n"
     ]
    }
   ],
   "source": [
    "research(data_2)"
   ]
  },
  {
   "cell_type": "code",
   "execution_count": 6,
   "metadata": {
    "scrolled": true
   },
   "outputs": [
    {
     "name": "stdout",
     "output_type": "stream",
     "text": [
      "      id        f0        f1        f2     product\n",
      "0  fwXo0 -1.146987  0.963328 -0.828965   27.758673\n",
      "1  WJtFt  0.262778  0.269839 -2.530187   56.069697\n",
      "2  ovLUW  0.194587  0.289035 -5.586433   62.871910\n",
      "3  q6cA6  2.236060 -0.553760  0.930038  114.572842\n",
      "4  WPMUX -0.515993  1.716266  5.899011  149.600746\n",
      "\n",
      "<class 'pandas.core.frame.DataFrame'>\n",
      "RangeIndex: 100000 entries, 0 to 99999\n",
      "Data columns (total 5 columns):\n",
      " #   Column   Non-Null Count   Dtype  \n",
      "---  ------   --------------   -----  \n",
      " 0   id       100000 non-null  object \n",
      " 1   f0       100000 non-null  float64\n",
      " 2   f1       100000 non-null  float64\n",
      " 3   f2       100000 non-null  float64\n",
      " 4   product  100000 non-null  float64\n",
      "dtypes: float64(4), object(1)\n",
      "memory usage: 3.8+ MB\n",
      "None\n",
      "\n",
      "               f0        f1        f2   product\n",
      "f0       1.000000  0.000528 -0.000448 -0.001987\n",
      "f1       0.000528  1.000000  0.000779 -0.001012\n",
      "f2      -0.000448  0.000779  1.000000  0.445871\n",
      "product -0.001987 -0.001012  0.445871  1.000000\n"
     ]
    }
   ],
   "source": [
    "research(data_3)"
   ]
  },
  {
   "cell_type": "markdown",
   "metadata": {},
   "source": [
    "**Во всех датафреймах 100_000 строк, названия столбцов записаны корректно, типы данных в столбцах выставлены корректно, столбец 'id' не нужен для дальнейшего анализа, пропусков в данных нет, минимальная корреляция присутствует лишь между признаком 'f2' и целевым признаком 'product'.**"
   ]
  },
  {
   "cell_type": "markdown",
   "metadata": {},
   "source": [
    "### Предобработка данных"
   ]
  },
  {
   "cell_type": "markdown",
   "metadata": {},
   "source": [
    "**Уберем ненужный столбец \"id\"**"
   ]
  },
  {
   "cell_type": "code",
   "execution_count": 7,
   "metadata": {
    "scrolled": true
   },
   "outputs": [],
   "source": [
    "data_1, data_2, data_3 = [data.drop(['id'], axis=1) for data in [data_1, data_2, data_3]]"
   ]
  },
  {
   "cell_type": "markdown",
   "metadata": {},
   "source": [
    "**Разделим выборки на обучающие и валидационные**"
   ]
  },
  {
   "cell_type": "code",
   "execution_count": 8,
   "metadata": {
    "scrolled": true
   },
   "outputs": [],
   "source": [
    "RANDOM_STATE = 12345"
   ]
  },
  {
   "cell_type": "code",
   "execution_count": 9,
   "metadata": {
    "scrolled": true
   },
   "outputs": [],
   "source": [
    "features_1 = data_1.drop(['product'], axis=1)\n",
    "target_1 = data_1['product']\n",
    "features_train_1, features_valid_1, target_train_1, target_valid_1 = train_test_split(\n",
    "    features_1, target_1, test_size=.25, random_state=RANDOM_STATE)"
   ]
  },
  {
   "cell_type": "code",
   "execution_count": 10,
   "metadata": {
    "scrolled": true
   },
   "outputs": [],
   "source": [
    "features_2 = data_2.drop(['product'], axis=1)\n",
    "target_2 = data_2['product']\n",
    "features_train_2, features_valid_2, target_train_2, target_valid_2 = train_test_split(\n",
    "    features_2, target_2, test_size=.25, random_state=RANDOM_STATE)"
   ]
  },
  {
   "cell_type": "code",
   "execution_count": 11,
   "metadata": {
    "scrolled": true
   },
   "outputs": [],
   "source": [
    "features_3 = data_3.drop(['product'], axis=1)\n",
    "target_3 = data_3['product']\n",
    "features_train_3, features_valid_3, target_train_3, target_valid_3 = train_test_split(\n",
    "    features_3, target_3, test_size=.25, random_state=RANDOM_STATE)"
   ]
  },
  {
   "cell_type": "markdown",
   "metadata": {},
   "source": [
    "## Обучение и проверка модели"
   ]
  },
  {
   "cell_type": "markdown",
   "metadata": {},
   "source": [
    "**Обучим модели и получим предсказания**"
   ]
  },
  {
   "cell_type": "code",
   "execution_count": 12,
   "metadata": {
    "scrolled": true
   },
   "outputs": [],
   "source": [
    "model = LinearRegression()"
   ]
  },
  {
   "cell_type": "code",
   "execution_count": 13,
   "metadata": {
    "scrolled": true
   },
   "outputs": [],
   "source": [
    "def model_train_and_predict(model, features_train, target_train, features_valid, target_valid):\n",
    "    model.fit(features_train, target_train)\n",
    "    return pd.Series(model.predict(features_valid), index=target_valid.index)"
   ]
  },
  {
   "cell_type": "code",
   "execution_count": 14,
   "metadata": {
    "scrolled": true
   },
   "outputs": [],
   "source": [
    "predictions_valid_1 = model_train_and_predict(model, features_train_1, target_train_1, features_valid_1, target_valid_1)"
   ]
  },
  {
   "cell_type": "code",
   "execution_count": 15,
   "metadata": {
    "scrolled": true
   },
   "outputs": [],
   "source": [
    "predictions_valid_2 = model_train_and_predict(model, features_train_2, target_train_2, features_valid_2, target_valid_2)"
   ]
  },
  {
   "cell_type": "code",
   "execution_count": 16,
   "metadata": {
    "scrolled": true
   },
   "outputs": [],
   "source": [
    "predictions_valid_3 = model_train_and_predict(model, features_train_3, target_train_3, features_valid_3, target_valid_3)"
   ]
  },
  {
   "cell_type": "markdown",
   "metadata": {},
   "source": [
    "**Напечатаем среднее и RMSE моделей**"
   ]
  },
  {
   "cell_type": "code",
   "execution_count": 17,
   "metadata": {
    "scrolled": true
   },
   "outputs": [],
   "source": [
    "def show_mean_and_rmse(target_valid, predictions_valid):\n",
    "    print('Среднее:', predictions_valid.mean())\n",
    "    print('RMSE:', mean_squared_error(target_valid, predictions_valid) ** 0.5)"
   ]
  },
  {
   "cell_type": "code",
   "execution_count": 18,
   "metadata": {
    "scrolled": true
   },
   "outputs": [
    {
     "name": "stdout",
     "output_type": "stream",
     "text": [
      "Среднее: 92.59256778438035\n",
      "RMSE: 37.5794217150813\n"
     ]
    }
   ],
   "source": [
    "show_mean_and_rmse(target_valid_1, predictions_valid_1)"
   ]
  },
  {
   "cell_type": "code",
   "execution_count": 19,
   "metadata": {
    "scrolled": true
   },
   "outputs": [
    {
     "name": "stdout",
     "output_type": "stream",
     "text": [
      "Среднее: 68.728546895446\n",
      "RMSE: 0.893099286775617\n"
     ]
    }
   ],
   "source": [
    "show_mean_and_rmse(target_valid_2, predictions_valid_2)"
   ]
  },
  {
   "cell_type": "code",
   "execution_count": 20,
   "metadata": {
    "scrolled": true
   },
   "outputs": [
    {
     "name": "stdout",
     "output_type": "stream",
     "text": [
      "Среднее: 94.96504596800489\n",
      "RMSE: 40.02970873393434\n"
     ]
    }
   ],
   "source": [
    "show_mean_and_rmse(target_valid_3, predictions_valid_3)"
   ]
  },
  {
   "cell_type": "markdown",
   "metadata": {},
   "source": [
    "**В первом и третьем регионах среднее примерно 93, а среднеквадратическая ошибка примерно 38. А во втором регионе среднее - 68, а предсказания очень точны, т.к. среднеквадратическая ошибка равна 1.**"
   ]
  },
  {
   "cell_type": "markdown",
   "metadata": {},
   "source": [
    "## Подготовка к расчёту прибыли"
   ]
  },
  {
   "cell_type": "code",
   "execution_count": 21,
   "metadata": {
    "scrolled": true
   },
   "outputs": [],
   "source": [
    "BUDGET = 10 ** 10\n",
    "BARREL_INCOME = 450_000\n",
    "POINTS_AMOUNT = 500\n",
    "BEST_POINTS_AMOUNT = 200\n",
    "ALPHA = .025\n",
    "BOOTSTRAPPING_ITERATIONS_COUNT = 1000"
   ]
  },
  {
   "cell_type": "code",
   "execution_count": 22,
   "metadata": {
    "scrolled": true
   },
   "outputs": [
    {
     "data": {
      "text/plain": [
       "111.11111111111111"
      ]
     },
     "execution_count": 22,
     "metadata": {},
     "output_type": "execute_result"
    }
   ],
   "source": [
    "MEAN_PRODUCT_ONE_BARREL = BUDGET / BEST_POINTS_AMOUNT / BARREL_INCOME\n",
    "MEAN_PRODUCT_ONE_BARREL"
   ]
  },
  {
   "cell_type": "markdown",
   "metadata": {},
   "source": [
    "**В первом и третьем регионах среднее значение немного меньше значение для безубыточной разработки, а во втором - значительно меньше.**"
   ]
  },
  {
   "cell_type": "markdown",
   "metadata": {},
   "source": [
    "## Функция для расчета прибыли"
   ]
  },
  {
   "cell_type": "code",
   "execution_count": 23,
   "metadata": {
    "scrolled": true
   },
   "outputs": [],
   "source": [
    "def revenue(target, predictions, count, budget, barrel_income):\n",
    "    pred_sorted = predictions.sort_values(ascending=False)\n",
    "    selected = target[pred_sorted.index][:count]\n",
    "    return barrel_income * selected.sum() - budget"
   ]
  },
  {
   "cell_type": "markdown",
   "metadata": {},
   "source": [
    "## Расчёт прибыли и рисков "
   ]
  },
  {
   "cell_type": "code",
   "execution_count": 24,
   "metadata": {
    "scrolled": true
   },
   "outputs": [],
   "source": [
    "state = RandomState(RANDOM_STATE)"
   ]
  },
  {
   "cell_type": "markdown",
   "metadata": {},
   "source": [
    "**Функция для метрик:**"
   ]
  },
  {
   "cell_type": "code",
   "execution_count": 25,
   "metadata": {},
   "outputs": [],
   "source": [
    "def metrics(values, alpha):\n",
    "    print('Cреднее:', int(values.mean()))\n",
    "    print(f'{(1-alpha*2):.0%}-й доверительный интервал: ({int(values.quantile(alpha))}, {int(values.quantile(1-alpha))})')\n",
    "    print(f'Риск убытков: {((values < 0).sum() / len(values)):.3%}')\n",
    "    values.plot(kind='hist', title='Гистограмма возможной прибыли')\n",
    "    plt.show()"
   ]
  },
  {
   "cell_type": "markdown",
   "metadata": {},
   "source": [
    "**Функция для вычисления:**"
   ]
  },
  {
   "cell_type": "code",
   "execution_count": 26,
   "metadata": {
    "scrolled": true
   },
   "outputs": [],
   "source": [
    "def bootstrap(iterations_count, points_amount, best_points_amount, target, predictions, budget, alpha, barrel_income):\n",
    "    values = []\n",
    "    for _ in range(iterations_count):\n",
    "        target_subsample = target.sample(n=points_amount, replace=True, random_state=state)\n",
    "        pred_subsample = predictions[target_subsample.index]\n",
    "        values.append(revenue(target_subsample, pred_subsample, best_points_amount, budget, barrel_income))\n",
    "    metrics(pd.Series(values), alpha)"
   ]
  },
  {
   "cell_type": "markdown",
   "metadata": {},
   "source": [
    "### Первый регион"
   ]
  },
  {
   "cell_type": "code",
   "execution_count": 28,
   "metadata": {},
   "outputs": [
    {
     "name": "stdout",
     "output_type": "stream",
     "text": [
      "Cреднее: 425938526\n",
      "95%-й доверительный интервал: (-102090094, 947976353)\n",
      "Риск убытков: 6.000%\n"
     ]
    },
    {
     "data": {
      "image/png": "[encoded data removed]",
      "text/plain": [
       "<Figure size 432x288 with 1 Axes>"
      ]
     },
     "metadata": {
      "needs_background": "light"
     },
     "output_type": "display_data"
    }
   ],
   "source": [
    "values_1 = bootstrap(\n",
    "    BOOTSTRAPPING_ITERATIONS_COUNT,\n",
    "    POINTS_AMOUNT,\n",
    "    BEST_POINTS_AMOUNT,\n",
    "    target_valid_1,\n",
    "    predictions_valid_1,\n",
    "    BUDGET,\n",
    "    ALPHA,\n",
    "    BARREL_INCOME)"
   ]
  },
  {
   "cell_type": "code",
   "execution_count": 30,
   "metadata": {},
   "outputs": [
    {
     "name": "stdout",
     "output_type": "stream",
     "text": [
      "Cреднее: 518259493\n",
      "95%-й доверительный интервал: (128123231, 953612982)\n",
      "Риск убытков: 0.300%\n"
     ]
    },
    {
     "data": {
      "image/png": "[encoded data removed]",
      "text/plain": [
       "<Figure size 432x288 with 1 Axes>"
      ]
     },
     "metadata": {
      "needs_background": "light"
     },
     "output_type": "display_data"
    }
   ],
   "source": [
    "values_2 = bootstrap(\n",
    "    BOOTSTRAPPING_ITERATIONS_COUNT,\n",
    "    POINTS_AMOUNT,\n",
    "    BEST_POINTS_AMOUNT,\n",
    "    target_valid_2,\n",
    "    predictions_valid_2,\n",
    "    BUDGET,\n",
    "    ALPHA,\n",
    "    BARREL_INCOME)"
   ]
  },
  {
   "cell_type": "code",
   "execution_count": 31,
   "metadata": {
    "scrolled": true
   },
   "outputs": [
    {
     "name": "stdout",
     "output_type": "stream",
     "text": [
      "Cреднее: 420194005\n",
      "95%-й доверительный интервал: (-115852609, 989629939)\n",
      "Риск убытков: 6.200%\n"
     ]
    },
    {
     "data": {
      "image/png": "[encoded data removed]",
      "text/plain": [
       "<Figure size 432x288 with 1 Axes>"
      ]
     },
     "metadata": {
      "needs_background": "light"
     },
     "output_type": "display_data"
    }
   ],
   "source": [
    "values_3 = bootstrap(\n",
    "    BOOTSTRAPPING_ITERATIONS_COUNT,\n",
    "    POINTS_AMOUNT,\n",
    "    BEST_POINTS_AMOUNT,\n",
    "    target_valid_3,\n",
    "    predictions_valid_3,\n",
    "    BUDGET,\n",
    "    ALPHA,\n",
    "    BARREL_INCOME)"
   ]
  },
  {
   "cell_type": "markdown",
   "metadata": {},
   "source": [
    "**Только во втором регионе риск убытка меньше 2.5% и наивысший средний доход, а также в 95%-й доверительный интервал не входят отрицательные значения дохода, поэтому нужно выбрать второй регион для разработки.**"
   ]
  }
 ],
 "metadata": {
  "ExecuteTimeLog": [
   {
    "duration": 444,
    "start_time": "2023-03-06T15:48:50.311Z"
   },
   {
    "duration": 97,
    "start_time": "2023-03-06T15:49:55.825Z"
   },
   {
    "duration": 2185,
    "start_time": "2023-03-06T15:50:15.088Z"
   },
   {
    "duration": 31,
    "start_time": "2023-03-06T15:52:25.754Z"
   },
   {
    "duration": 10,
    "start_time": "2023-03-06T15:52:35.421Z"
   },
   {
    "duration": 14,
    "start_time": "2023-03-06T15:53:06.963Z"
   },
   {
    "duration": 7,
    "start_time": "2023-03-06T16:01:01.285Z"
   },
   {
    "duration": 12,
    "start_time": "2023-03-06T16:01:37.218Z"
   },
   {
    "duration": 912,
    "start_time": "2023-03-06T16:30:25.663Z"
   },
   {
    "duration": 2102,
    "start_time": "2023-03-06T16:30:26.987Z"
   },
   {
    "duration": 17,
    "start_time": "2023-03-06T16:30:29.091Z"
   },
   {
    "duration": 13,
    "start_time": "2023-03-06T16:30:30.168Z"
   },
   {
    "duration": 10,
    "start_time": "2023-03-06T16:30:30.895Z"
   },
   {
    "duration": 83,
    "start_time": "2023-03-06T16:30:32.378Z"
   },
   {
    "duration": 1193,
    "start_time": "2023-03-06T16:31:01.900Z"
   },
   {
    "duration": 5,
    "start_time": "2023-03-06T16:43:30.505Z"
   },
   {
    "duration": 21838,
    "start_time": "2023-03-06T17:33:27.185Z"
   },
   {
    "duration": 63,
    "start_time": "2023-03-06T17:38:07.808Z"
   },
   {
    "duration": 38,
    "start_time": "2023-03-06T17:41:50.877Z"
   },
   {
    "duration": 38,
    "start_time": "2023-03-06T17:42:37.085Z"
   },
   {
    "duration": 98,
    "start_time": "2023-03-06T17:42:41.736Z"
   },
   {
    "duration": 3,
    "start_time": "2023-03-06T17:42:54.227Z"
   },
   {
    "duration": 353,
    "start_time": "2023-03-06T17:47:27.015Z"
   },
   {
    "duration": 7,
    "start_time": "2023-03-06T17:48:03.044Z"
   },
   {
    "duration": 1042,
    "start_time": "2023-03-06T17:59:30.232Z"
   },
   {
    "duration": 1627,
    "start_time": "2023-03-06T17:59:31.276Z"
   },
   {
    "duration": 15,
    "start_time": "2023-03-06T17:59:32.904Z"
   },
   {
    "duration": 10,
    "start_time": "2023-03-06T17:59:32.922Z"
   },
   {
    "duration": 8,
    "start_time": "2023-03-06T17:59:32.934Z"
   },
   {
    "duration": 33,
    "start_time": "2023-03-06T17:59:32.944Z"
   },
   {
    "duration": 5,
    "start_time": "2023-03-06T17:59:32.979Z"
   },
   {
    "duration": 4,
    "start_time": "2023-03-06T17:59:32.986Z"
   },
   {
    "duration": 167,
    "start_time": "2023-03-06T17:59:32.991Z"
   },
   {
    "duration": 20,
    "start_time": "2023-03-06T17:59:43.400Z"
   },
   {
    "duration": 22,
    "start_time": "2023-03-06T18:00:35.169Z"
   },
   {
    "duration": 10,
    "start_time": "2023-03-06T18:01:11.476Z"
   },
   {
    "duration": 1051,
    "start_time": "2023-03-06T18:02:34.204Z"
   },
   {
    "duration": 390,
    "start_time": "2023-03-06T18:02:35.257Z"
   },
   {
    "duration": 19,
    "start_time": "2023-03-06T18:02:35.650Z"
   },
   {
    "duration": 25,
    "start_time": "2023-03-06T18:02:35.671Z"
   },
   {
    "duration": 10,
    "start_time": "2023-03-06T18:02:35.698Z"
   },
   {
    "duration": 54,
    "start_time": "2023-03-06T18:02:35.709Z"
   },
   {
    "duration": 5,
    "start_time": "2023-03-06T18:02:35.765Z"
   },
   {
    "duration": 13,
    "start_time": "2023-03-06T18:02:35.772Z"
   },
   {
    "duration": 27,
    "start_time": "2023-03-06T18:02:35.787Z"
   },
   {
    "duration": 39,
    "start_time": "2023-03-06T18:02:35.817Z"
   },
   {
    "duration": 22,
    "start_time": "2023-03-06T18:02:35.859Z"
   },
   {
    "duration": 6,
    "start_time": "2023-03-06T18:04:51.663Z"
   },
   {
    "duration": 97,
    "start_time": "2023-03-06T18:12:20.561Z"
   },
   {
    "duration": 24,
    "start_time": "2023-03-06T18:12:33.275Z"
   },
   {
    "duration": 10,
    "start_time": "2023-03-06T18:13:06.630Z"
   },
   {
    "duration": 1104,
    "start_time": "2023-03-06T18:13:15.812Z"
   },
   {
    "duration": 446,
    "start_time": "2023-03-06T18:13:16.918Z"
   },
   {
    "duration": 20,
    "start_time": "2023-03-06T18:13:17.367Z"
   },
   {
    "duration": 12,
    "start_time": "2023-03-06T18:13:17.389Z"
   },
   {
    "duration": 11,
    "start_time": "2023-03-06T18:13:17.402Z"
   },
   {
    "duration": 79,
    "start_time": "2023-03-06T18:13:17.415Z"
   },
   {
    "duration": 6,
    "start_time": "2023-03-06T18:13:17.496Z"
   },
   {
    "duration": 8,
    "start_time": "2023-03-06T18:13:23.259Z"
   },
   {
    "duration": 7,
    "start_time": "2023-03-06T18:14:10.893Z"
   },
   {
    "duration": 9,
    "start_time": "2023-03-06T18:14:11.070Z"
   },
   {
    "duration": 8,
    "start_time": "2023-03-06T18:14:34.026Z"
   },
   {
    "duration": 8,
    "start_time": "2023-03-06T18:14:34.523Z"
   },
   {
    "duration": 103,
    "start_time": "2023-03-06T18:15:16.922Z"
   },
   {
    "duration": 1131,
    "start_time": "2023-03-06T18:15:33.399Z"
   },
   {
    "duration": 398,
    "start_time": "2023-03-06T18:15:34.532Z"
   },
   {
    "duration": 18,
    "start_time": "2023-03-06T18:15:34.932Z"
   },
   {
    "duration": 12,
    "start_time": "2023-03-06T18:15:34.952Z"
   },
   {
    "duration": 13,
    "start_time": "2023-03-06T18:15:34.965Z"
   },
   {
    "duration": 39,
    "start_time": "2023-03-06T18:15:34.979Z"
   },
   {
    "duration": 28,
    "start_time": "2023-03-06T18:15:35.020Z"
   },
   {
    "duration": 11,
    "start_time": "2023-03-06T18:15:58.542Z"
   },
   {
    "duration": 12,
    "start_time": "2023-03-06T18:16:51.290Z"
   },
   {
    "duration": 16,
    "start_time": "2023-03-06T18:17:00.943Z"
   },
   {
    "duration": 2,
    "start_time": "2023-03-06T18:17:13.663Z"
   },
   {
    "duration": 17,
    "start_time": "2023-03-06T18:17:14.153Z"
   },
   {
    "duration": 16,
    "start_time": "2023-03-06T18:17:14.516Z"
   },
   {
    "duration": 16,
    "start_time": "2023-03-06T18:17:15.327Z"
   },
   {
    "duration": 25,
    "start_time": "2023-03-06T18:17:19.854Z"
   },
   {
    "duration": 11,
    "start_time": "2023-03-06T18:17:34.593Z"
   },
   {
    "duration": 1095,
    "start_time": "2023-03-06T18:18:21.366Z"
   },
   {
    "duration": 374,
    "start_time": "2023-03-06T18:18:22.464Z"
   },
   {
    "duration": 855,
    "start_time": "2023-03-06T18:18:22.840Z"
   },
   {
    "duration": 8,
    "start_time": "2023-03-06T18:18:29.298Z"
   },
   {
    "duration": 10,
    "start_time": "2023-03-06T18:27:07.528Z"
   },
   {
    "duration": 1926,
    "start_time": "2023-03-06T18:27:17.313Z"
   },
   {
    "duration": 773,
    "start_time": "2023-03-06T18:27:19.241Z"
   },
   {
    "duration": 16,
    "start_time": "2023-03-06T18:27:20.017Z"
   },
   {
    "duration": 38,
    "start_time": "2023-03-06T18:27:20.035Z"
   },
   {
    "duration": 15,
    "start_time": "2023-03-06T18:27:20.080Z"
   },
   {
    "duration": 67,
    "start_time": "2023-03-06T18:27:20.097Z"
   },
   {
    "duration": 18,
    "start_time": "2023-03-06T18:27:20.166Z"
   },
   {
    "duration": 4,
    "start_time": "2023-03-06T18:27:20.188Z"
   },
   {
    "duration": 19,
    "start_time": "2023-03-06T18:27:20.194Z"
   },
   {
    "duration": 37,
    "start_time": "2023-03-06T18:27:20.215Z"
   },
   {
    "duration": 31,
    "start_time": "2023-03-06T18:27:20.258Z"
   },
   {
    "duration": 121,
    "start_time": "2023-03-06T18:27:20.291Z"
   },
   {
    "duration": 0,
    "start_time": "2023-03-06T18:27:20.414Z"
   },
   {
    "duration": 19,
    "start_time": "2023-03-06T18:27:28.727Z"
   },
   {
    "duration": 10,
    "start_time": "2023-03-06T18:27:42.414Z"
   },
   {
    "duration": 10,
    "start_time": "2023-03-06T18:27:54.132Z"
   },
   {
    "duration": 13,
    "start_time": "2023-03-06T18:28:00.044Z"
   },
   {
    "duration": 55,
    "start_time": "2023-03-07T16:16:57.339Z"
   },
   {
    "duration": 1168,
    "start_time": "2023-03-07T16:17:02.537Z"
   },
   {
    "duration": 1943,
    "start_time": "2023-03-07T16:17:03.707Z"
   },
   {
    "duration": 18,
    "start_time": "2023-03-07T16:17:05.652Z"
   },
   {
    "duration": 9,
    "start_time": "2023-03-07T16:17:05.671Z"
   },
   {
    "duration": 44,
    "start_time": "2023-03-07T16:17:05.682Z"
   },
   {
    "duration": 16,
    "start_time": "2023-03-07T16:17:05.732Z"
   },
   {
    "duration": 7,
    "start_time": "2023-03-07T16:17:05.750Z"
   },
   {
    "duration": 17,
    "start_time": "2023-03-07T16:17:05.759Z"
   },
   {
    "duration": 17,
    "start_time": "2023-03-07T16:17:05.778Z"
   },
   {
    "duration": 42,
    "start_time": "2023-03-07T16:17:05.797Z"
   },
   {
    "duration": 15,
    "start_time": "2023-03-07T16:17:05.840Z"
   },
   {
    "duration": 10,
    "start_time": "2023-03-07T16:17:05.856Z"
   },
   {
    "duration": 10,
    "start_time": "2023-03-07T16:17:05.868Z"
   },
   {
    "duration": 43,
    "start_time": "2023-03-07T16:17:05.881Z"
   },
   {
    "duration": 14,
    "start_time": "2023-03-07T16:18:52.138Z"
   },
   {
    "duration": 41,
    "start_time": "2023-03-07T16:18:52.770Z"
   },
   {
    "duration": 7,
    "start_time": "2023-03-07T16:23:36.808Z"
   },
   {
    "duration": 6,
    "start_time": "2023-03-07T16:24:48.701Z"
   },
   {
    "duration": 6,
    "start_time": "2023-03-07T16:28:00.981Z"
   },
   {
    "duration": 6,
    "start_time": "2023-03-07T16:28:01.686Z"
   },
   {
    "duration": 9,
    "start_time": "2023-03-08T10:06:39.177Z"
   },
   {
    "duration": 49,
    "start_time": "2023-03-08T10:39:40.537Z"
   },
   {
    "duration": 1219,
    "start_time": "2023-03-08T10:39:45.426Z"
   },
   {
    "duration": 856,
    "start_time": "2023-03-08T10:39:46.650Z"
   },
   {
    "duration": 16,
    "start_time": "2023-03-08T10:39:47.508Z"
   },
   {
    "duration": 11,
    "start_time": "2023-03-08T10:39:47.527Z"
   },
   {
    "duration": 50,
    "start_time": "2023-03-08T10:39:47.540Z"
   },
   {
    "duration": 14,
    "start_time": "2023-03-08T10:39:47.591Z"
   },
   {
    "duration": 9,
    "start_time": "2023-03-08T10:39:47.607Z"
   },
   {
    "duration": 20,
    "start_time": "2023-03-08T10:39:47.618Z"
   },
   {
    "duration": 23,
    "start_time": "2023-03-08T10:39:47.640Z"
   },
   {
    "duration": 15,
    "start_time": "2023-03-08T10:39:47.666Z"
   },
   {
    "duration": 10,
    "start_time": "2023-03-08T10:39:47.682Z"
   },
   {
    "duration": 12,
    "start_time": "2023-03-08T10:39:47.694Z"
   },
   {
    "duration": 32,
    "start_time": "2023-03-08T10:39:47.708Z"
   },
   {
    "duration": 103,
    "start_time": "2023-03-08T10:39:47.742Z"
   },
   {
    "duration": 94,
    "start_time": "2023-03-08T10:39:47.849Z"
   },
   {
    "duration": 202,
    "start_time": "2023-03-08T10:39:47.947Z"
   },
   {
    "duration": 199,
    "start_time": "2023-03-08T10:39:48.152Z"
   },
   {
    "duration": 7,
    "start_time": "2023-03-08T10:39:48.352Z"
   },
   {
    "duration": 6,
    "start_time": "2023-03-08T10:39:48.361Z"
   },
   {
    "duration": 3,
    "start_time": "2023-03-08T10:39:48.369Z"
   },
   {
    "duration": 6,
    "start_time": "2023-03-08T10:39:48.373Z"
   },
   {
    "duration": 5,
    "start_time": "2023-03-08T10:40:16.926Z"
   },
   {
    "duration": 4,
    "start_time": "2023-03-08T10:43:45.593Z"
   },
   {
    "duration": 2,
    "start_time": "2023-03-08T10:44:05.770Z"
   },
   {
    "duration": 4,
    "start_time": "2023-03-08T10:44:06.226Z"
   },
   {
    "duration": 4,
    "start_time": "2023-03-08T10:44:06.432Z"
   },
   {
    "duration": 2,
    "start_time": "2023-03-08T10:44:44.885Z"
   },
   {
    "duration": 3,
    "start_time": "2023-03-08T10:44:45.097Z"
   },
   {
    "duration": 4,
    "start_time": "2023-03-08T10:44:45.300Z"
   },
   {
    "duration": 5,
    "start_time": "2023-03-08T10:49:42.351Z"
   },
   {
    "duration": 3,
    "start_time": "2023-03-08T10:50:02.461Z"
   },
   {
    "duration": 3,
    "start_time": "2023-03-08T10:55:01.220Z"
   },
   {
    "duration": 3,
    "start_time": "2023-03-08T10:55:01.345Z"
   },
   {
    "duration": 3,
    "start_time": "2023-03-08T11:45:29.542Z"
   },
   {
    "duration": 4,
    "start_time": "2023-03-08T11:45:29.668Z"
   },
   {
    "duration": 3,
    "start_time": "2023-03-08T12:11:10.176Z"
   },
   {
    "duration": 2,
    "start_time": "2023-03-08T12:12:45.509Z"
   },
   {
    "duration": 3,
    "start_time": "2023-03-08T12:13:23.169Z"
   },
   {
    "duration": 3,
    "start_time": "2023-03-08T12:22:05.041Z"
   },
   {
    "duration": 4,
    "start_time": "2023-03-08T12:29:19.170Z"
   },
   {
    "duration": 58,
    "start_time": "2023-03-08T12:38:45.902Z"
   },
   {
    "duration": 3,
    "start_time": "2023-03-08T12:38:49.994Z"
   },
   {
    "duration": 8,
    "start_time": "2023-03-08T12:38:51.463Z"
   },
   {
    "duration": 4,
    "start_time": "2023-03-08T12:38:58.511Z"
   },
   {
    "duration": 11,
    "start_time": "2023-03-08T12:38:59.802Z"
   },
   {
    "duration": 3,
    "start_time": "2023-03-08T12:39:19.926Z"
   },
   {
    "duration": 12,
    "start_time": "2023-03-08T12:39:21.127Z"
   },
   {
    "duration": 6,
    "start_time": "2023-03-08T12:39:26.929Z"
   },
   {
    "duration": 11,
    "start_time": "2023-03-08T12:39:27.330Z"
   },
   {
    "duration": 4,
    "start_time": "2023-03-08T12:39:35.555Z"
   },
   {
    "duration": 12,
    "start_time": "2023-03-08T12:39:35.909Z"
   },
   {
    "duration": 8,
    "start_time": "2023-03-08T12:41:49.226Z"
   },
   {
    "duration": 1131,
    "start_time": "2023-03-08T12:43:00.217Z"
   },
   {
    "duration": 436,
    "start_time": "2023-03-08T12:43:01.350Z"
   },
   {
    "duration": 16,
    "start_time": "2023-03-08T12:43:01.787Z"
   },
   {
    "duration": 32,
    "start_time": "2023-03-08T12:43:01.805Z"
   },
   {
    "duration": 58,
    "start_time": "2023-03-08T12:43:01.839Z"
   },
   {
    "duration": 13,
    "start_time": "2023-03-08T12:43:01.899Z"
   },
   {
    "duration": 29,
    "start_time": "2023-03-08T12:43:01.914Z"
   },
   {
    "duration": 21,
    "start_time": "2023-03-08T12:43:01.944Z"
   },
   {
    "duration": 35,
    "start_time": "2023-03-08T12:43:01.967Z"
   },
   {
    "duration": 25,
    "start_time": "2023-03-08T12:43:02.004Z"
   },
   {
    "duration": 99,
    "start_time": "2023-03-08T12:43:02.031Z"
   },
   {
    "duration": 101,
    "start_time": "2023-03-08T12:43:02.133Z"
   },
   {
    "duration": 205,
    "start_time": "2023-03-08T12:43:02.240Z"
   },
   {
    "duration": 186,
    "start_time": "2023-03-08T12:43:02.449Z"
   },
   {
    "duration": 19,
    "start_time": "2023-03-08T12:43:02.637Z"
   },
   {
    "duration": 10,
    "start_time": "2023-03-08T12:43:02.657Z"
   },
   {
    "duration": 10,
    "start_time": "2023-03-08T12:43:02.669Z"
   },
   {
    "duration": 15,
    "start_time": "2023-03-08T12:43:02.681Z"
   },
   {
    "duration": 7,
    "start_time": "2023-03-08T12:43:02.698Z"
   },
   {
    "duration": 25,
    "start_time": "2023-03-08T12:43:02.707Z"
   },
   {
    "duration": 11,
    "start_time": "2023-03-08T12:43:02.734Z"
   },
   {
    "duration": 108,
    "start_time": "2023-03-08T12:43:02.746Z"
   },
   {
    "duration": 0,
    "start_time": "2023-03-08T12:43:02.856Z"
   },
   {
    "duration": 8,
    "start_time": "2023-03-08T12:43:06.372Z"
   },
   {
    "duration": 7,
    "start_time": "2023-03-08T12:43:13.230Z"
   },
   {
    "duration": 5,
    "start_time": "2023-03-08T12:43:44.406Z"
   },
   {
    "duration": 5,
    "start_time": "2023-03-08T12:44:57.665Z"
   },
   {
    "duration": 4,
    "start_time": "2023-03-08T12:45:04.361Z"
   },
   {
    "duration": 4,
    "start_time": "2023-03-08T12:45:15.352Z"
   },
   {
    "duration": 9,
    "start_time": "2023-03-08T12:45:35.142Z"
   },
   {
    "duration": 5,
    "start_time": "2023-03-08T12:45:58.764Z"
   },
   {
    "duration": 8,
    "start_time": "2023-03-08T12:46:28.920Z"
   },
   {
    "duration": 4,
    "start_time": "2023-03-08T12:46:45.483Z"
   },
   {
    "duration": 1126,
    "start_time": "2023-03-08T12:48:49.109Z"
   },
   {
    "duration": 372,
    "start_time": "2023-03-08T12:48:50.237Z"
   },
   {
    "duration": 16,
    "start_time": "2023-03-08T12:48:50.610Z"
   },
   {
    "duration": 9,
    "start_time": "2023-03-08T12:48:50.630Z"
   },
   {
    "duration": 39,
    "start_time": "2023-03-08T12:48:50.640Z"
   },
   {
    "duration": 14,
    "start_time": "2023-03-08T12:48:50.681Z"
   },
   {
    "duration": 8,
    "start_time": "2023-03-08T12:48:50.697Z"
   },
   {
    "duration": 36,
    "start_time": "2023-03-08T12:48:50.707Z"
   },
   {
    "duration": 17,
    "start_time": "2023-03-08T12:48:50.745Z"
   },
   {
    "duration": 18,
    "start_time": "2023-03-08T12:48:50.765Z"
   },
   {
    "duration": 48,
    "start_time": "2023-03-08T12:48:50.785Z"
   },
   {
    "duration": 101,
    "start_time": "2023-03-08T12:48:50.835Z"
   },
   {
    "duration": 100,
    "start_time": "2023-03-08T12:48:50.942Z"
   },
   {
    "duration": 196,
    "start_time": "2023-03-08T12:48:51.046Z"
   },
   {
    "duration": 8,
    "start_time": "2023-03-08T12:48:51.244Z"
   },
   {
    "duration": 7,
    "start_time": "2023-03-08T12:48:51.254Z"
   },
   {
    "duration": 5,
    "start_time": "2023-03-08T12:48:51.263Z"
   },
   {
    "duration": 7,
    "start_time": "2023-03-08T12:48:51.270Z"
   },
   {
    "duration": 7,
    "start_time": "2023-03-08T12:48:51.279Z"
   },
   {
    "duration": 5,
    "start_time": "2023-03-08T12:48:51.287Z"
   },
   {
    "duration": 6,
    "start_time": "2023-03-08T12:48:51.294Z"
   },
   {
    "duration": 153,
    "start_time": "2023-03-08T12:48:51.331Z"
   },
   {
    "duration": 6,
    "start_time": "2023-03-08T12:49:37.592Z"
   },
   {
    "duration": 5,
    "start_time": "2023-03-08T12:50:03.682Z"
   },
   {
    "duration": 5,
    "start_time": "2023-03-08T12:50:10.011Z"
   },
   {
    "duration": 1141,
    "start_time": "2023-03-08T12:50:43.522Z"
   },
   {
    "duration": 407,
    "start_time": "2023-03-08T12:50:44.666Z"
   },
   {
    "duration": 17,
    "start_time": "2023-03-08T12:50:45.075Z"
   },
   {
    "duration": 20,
    "start_time": "2023-03-08T12:50:45.094Z"
   },
   {
    "duration": 76,
    "start_time": "2023-03-08T12:50:45.116Z"
   },
   {
    "duration": 16,
    "start_time": "2023-03-08T12:50:45.194Z"
   },
   {
    "duration": 22,
    "start_time": "2023-03-08T12:50:45.213Z"
   },
   {
    "duration": 25,
    "start_time": "2023-03-08T12:50:45.237Z"
   },
   {
    "duration": 17,
    "start_time": "2023-03-08T12:50:45.263Z"
   },
   {
    "duration": 18,
    "start_time": "2023-03-08T12:50:45.284Z"
   },
   {
    "duration": 30,
    "start_time": "2023-03-08T12:50:45.303Z"
   },
   {
    "duration": 106,
    "start_time": "2023-03-08T12:50:45.335Z"
   },
   {
    "duration": 105,
    "start_time": "2023-03-08T12:50:45.532Z"
   },
   {
    "duration": 8,
    "start_time": "2023-03-08T12:50:45.639Z"
   },
   {
    "duration": 186,
    "start_time": "2023-03-08T12:50:45.649Z"
   },
   {
    "duration": 13,
    "start_time": "2023-03-08T12:50:45.837Z"
   },
   {
    "duration": 3,
    "start_time": "2023-03-08T12:50:45.852Z"
   },
   {
    "duration": 24,
    "start_time": "2023-03-08T12:50:45.856Z"
   },
   {
    "duration": 12,
    "start_time": "2023-03-08T12:50:45.881Z"
   },
   {
    "duration": 9,
    "start_time": "2023-03-08T12:50:45.894Z"
   },
   {
    "duration": 6,
    "start_time": "2023-03-08T12:50:45.904Z"
   },
   {
    "duration": 1980,
    "start_time": "2023-03-08T12:50:45.911Z"
   },
   {
    "duration": 1388,
    "start_time": "2023-03-08T12:54:48.715Z"
   },
   {
    "duration": 1370,
    "start_time": "2023-03-08T12:55:17.378Z"
   },
   {
    "duration": 1425,
    "start_time": "2023-03-08T12:55:51.221Z"
   },
   {
    "duration": 5,
    "start_time": "2023-03-08T13:25:54.347Z"
   },
   {
    "duration": 115,
    "start_time": "2023-03-08T13:25:54.843Z"
   },
   {
    "duration": 1470,
    "start_time": "2023-03-08T13:26:22.699Z"
   },
   {
    "duration": 4,
    "start_time": "2023-03-08T13:26:38.934Z"
   },
   {
    "duration": 1421,
    "start_time": "2023-03-08T13:26:39.370Z"
   },
   {
    "duration": 5,
    "start_time": "2023-03-08T13:27:24.156Z"
   },
   {
    "duration": 1384,
    "start_time": "2023-03-08T13:27:24.584Z"
   },
   {
    "duration": 5,
    "start_time": "2023-03-08T13:28:29.949Z"
   },
   {
    "duration": 1362,
    "start_time": "2023-03-08T13:28:30.441Z"
   },
   {
    "duration": 9,
    "start_time": "2023-03-08T13:28:42.173Z"
   },
   {
    "duration": 1395,
    "start_time": "2023-03-08T13:28:58.443Z"
   },
   {
    "duration": 1419,
    "start_time": "2023-03-08T13:30:21.060Z"
   },
   {
    "duration": 98,
    "start_time": "2023-03-08T13:31:38.363Z"
   },
   {
    "duration": 1443,
    "start_time": "2023-03-08T13:31:38.877Z"
   },
   {
    "duration": 1401,
    "start_time": "2023-03-08T13:31:42.104Z"
   },
   {
    "duration": 71,
    "start_time": "2023-03-08T13:32:25.214Z"
   },
   {
    "duration": 4,
    "start_time": "2023-03-08T13:32:30.930Z"
   },
   {
    "duration": 1418,
    "start_time": "2023-03-08T13:32:31.674Z"
   },
   {
    "duration": 1390,
    "start_time": "2023-03-08T13:35:42.225Z"
   },
   {
    "duration": 1421,
    "start_time": "2023-03-08T13:36:07.411Z"
   },
   {
    "duration": 1528,
    "start_time": "2023-03-08T13:41:23.632Z"
   },
   {
    "duration": 1460,
    "start_time": "2023-03-08T13:41:32.095Z"
   },
   {
    "duration": 1575,
    "start_time": "2023-03-08T13:43:56.604Z"
   },
   {
    "duration": 1408,
    "start_time": "2023-03-08T13:44:21.113Z"
   },
   {
    "duration": 1492,
    "start_time": "2023-03-08T13:44:23.707Z"
   },
   {
    "duration": 3,
    "start_time": "2023-03-08T13:58:29.653Z"
   },
   {
    "duration": 4,
    "start_time": "2023-03-08T13:58:42.925Z"
   },
   {
    "duration": 84,
    "start_time": "2023-03-08T13:59:16.732Z"
   },
   {
    "duration": 0,
    "start_time": "2023-03-08T13:59:16.819Z"
   },
   {
    "duration": 0,
    "start_time": "2023-03-08T13:59:16.820Z"
   },
   {
    "duration": 0,
    "start_time": "2023-03-08T13:59:16.822Z"
   },
   {
    "duration": 0,
    "start_time": "2023-03-08T13:59:16.823Z"
   },
   {
    "duration": 0,
    "start_time": "2023-03-08T13:59:16.824Z"
   },
   {
    "duration": 0,
    "start_time": "2023-03-08T13:59:16.825Z"
   },
   {
    "duration": 0,
    "start_time": "2023-03-08T13:59:16.826Z"
   },
   {
    "duration": 0,
    "start_time": "2023-03-08T13:59:16.827Z"
   },
   {
    "duration": 0,
    "start_time": "2023-03-08T13:59:16.829Z"
   },
   {
    "duration": 0,
    "start_time": "2023-03-08T13:59:16.831Z"
   },
   {
    "duration": 0,
    "start_time": "2023-03-08T13:59:16.832Z"
   },
   {
    "duration": 0,
    "start_time": "2023-03-08T13:59:16.833Z"
   },
   {
    "duration": 0,
    "start_time": "2023-03-08T13:59:16.835Z"
   },
   {
    "duration": 0,
    "start_time": "2023-03-08T13:59:16.836Z"
   },
   {
    "duration": 0,
    "start_time": "2023-03-08T13:59:16.837Z"
   },
   {
    "duration": 0,
    "start_time": "2023-03-08T13:59:16.838Z"
   },
   {
    "duration": 0,
    "start_time": "2023-03-08T13:59:16.839Z"
   },
   {
    "duration": 0,
    "start_time": "2023-03-08T13:59:16.840Z"
   },
   {
    "duration": 0,
    "start_time": "2023-03-08T13:59:16.841Z"
   },
   {
    "duration": 0,
    "start_time": "2023-03-08T13:59:16.842Z"
   },
   {
    "duration": 0,
    "start_time": "2023-03-08T13:59:16.843Z"
   },
   {
    "duration": 0,
    "start_time": "2023-03-08T13:59:16.844Z"
   },
   {
    "duration": 0,
    "start_time": "2023-03-08T13:59:16.845Z"
   },
   {
    "duration": 0,
    "start_time": "2023-03-08T13:59:16.846Z"
   },
   {
    "duration": 0,
    "start_time": "2023-03-08T13:59:16.847Z"
   },
   {
    "duration": 83,
    "start_time": "2023-03-08T13:59:27.505Z"
   },
   {
    "duration": 0,
    "start_time": "2023-03-08T13:59:27.590Z"
   },
   {
    "duration": 0,
    "start_time": "2023-03-08T13:59:27.591Z"
   },
   {
    "duration": 0,
    "start_time": "2023-03-08T13:59:27.592Z"
   },
   {
    "duration": 0,
    "start_time": "2023-03-08T13:59:27.593Z"
   },
   {
    "duration": 0,
    "start_time": "2023-03-08T13:59:27.594Z"
   },
   {
    "duration": 0,
    "start_time": "2023-03-08T13:59:27.595Z"
   },
   {
    "duration": 0,
    "start_time": "2023-03-08T13:59:27.596Z"
   },
   {
    "duration": 1,
    "start_time": "2023-03-08T13:59:27.596Z"
   },
   {
    "duration": 0,
    "start_time": "2023-03-08T13:59:27.598Z"
   },
   {
    "duration": 0,
    "start_time": "2023-03-08T13:59:27.599Z"
   },
   {
    "duration": 0,
    "start_time": "2023-03-08T13:59:27.600Z"
   },
   {
    "duration": 0,
    "start_time": "2023-03-08T13:59:27.601Z"
   },
   {
    "duration": 0,
    "start_time": "2023-03-08T13:59:27.602Z"
   },
   {
    "duration": 0,
    "start_time": "2023-03-08T13:59:27.603Z"
   },
   {
    "duration": 0,
    "start_time": "2023-03-08T13:59:27.604Z"
   },
   {
    "duration": 0,
    "start_time": "2023-03-08T13:59:27.605Z"
   },
   {
    "duration": 0,
    "start_time": "2023-03-08T13:59:27.606Z"
   },
   {
    "duration": 0,
    "start_time": "2023-03-08T13:59:27.607Z"
   },
   {
    "duration": 0,
    "start_time": "2023-03-08T13:59:27.608Z"
   },
   {
    "duration": 0,
    "start_time": "2023-03-08T13:59:27.608Z"
   },
   {
    "duration": 0,
    "start_time": "2023-03-08T13:59:27.610Z"
   },
   {
    "duration": 0,
    "start_time": "2023-03-08T13:59:27.611Z"
   },
   {
    "duration": 0,
    "start_time": "2023-03-08T13:59:27.612Z"
   },
   {
    "duration": 0,
    "start_time": "2023-03-08T13:59:27.613Z"
   },
   {
    "duration": 0,
    "start_time": "2023-03-08T13:59:27.614Z"
   },
   {
    "duration": 1125,
    "start_time": "2023-03-08T13:59:39.333Z"
   },
   {
    "duration": 394,
    "start_time": "2023-03-08T13:59:40.461Z"
   },
   {
    "duration": 16,
    "start_time": "2023-03-08T13:59:40.857Z"
   },
   {
    "duration": 11,
    "start_time": "2023-03-08T13:59:40.874Z"
   },
   {
    "duration": 53,
    "start_time": "2023-03-08T13:59:40.887Z"
   },
   {
    "duration": 15,
    "start_time": "2023-03-08T13:59:40.941Z"
   },
   {
    "duration": 8,
    "start_time": "2023-03-08T13:59:40.957Z"
   },
   {
    "duration": 15,
    "start_time": "2023-03-08T13:59:40.966Z"
   },
   {
    "duration": 15,
    "start_time": "2023-03-08T13:59:40.983Z"
   },
   {
    "duration": 34,
    "start_time": "2023-03-08T13:59:40.999Z"
   },
   {
    "duration": 24,
    "start_time": "2023-03-08T13:59:41.034Z"
   },
   {
    "duration": 104,
    "start_time": "2023-03-08T13:59:41.132Z"
   },
   {
    "duration": 193,
    "start_time": "2023-03-08T13:59:41.238Z"
   },
   {
    "duration": 100,
    "start_time": "2023-03-08T13:59:41.435Z"
   },
   {
    "duration": 5,
    "start_time": "2023-03-08T13:59:41.538Z"
   },
   {
    "duration": 8,
    "start_time": "2023-03-08T13:59:41.545Z"
   },
   {
    "duration": 7,
    "start_time": "2023-03-08T13:59:41.554Z"
   },
   {
    "duration": 7,
    "start_time": "2023-03-08T13:59:41.563Z"
   },
   {
    "duration": 5,
    "start_time": "2023-03-08T13:59:41.572Z"
   },
   {
    "duration": 5,
    "start_time": "2023-03-08T13:59:41.578Z"
   },
   {
    "duration": 5,
    "start_time": "2023-03-08T13:59:41.584Z"
   },
   {
    "duration": 5,
    "start_time": "2023-03-08T13:59:41.590Z"
   },
   {
    "duration": 4,
    "start_time": "2023-03-08T13:59:41.630Z"
   },
   {
    "duration": 1691,
    "start_time": "2023-03-08T13:59:41.636Z"
   },
   {
    "duration": 1447,
    "start_time": "2023-03-08T13:59:43.330Z"
   },
   {
    "duration": 1456,
    "start_time": "2023-03-08T13:59:44.779Z"
   },
   {
    "duration": 4,
    "start_time": "2023-03-08T14:04:37.014Z"
   },
   {
    "duration": 4,
    "start_time": "2023-03-08T14:04:44.402Z"
   },
   {
    "duration": 1123,
    "start_time": "2023-03-08T14:05:56.267Z"
   },
   {
    "duration": 379,
    "start_time": "2023-03-08T14:05:57.392Z"
   },
   {
    "duration": 16,
    "start_time": "2023-03-08T14:05:57.773Z"
   },
   {
    "duration": 9,
    "start_time": "2023-03-08T14:05:57.791Z"
   },
   {
    "duration": 52,
    "start_time": "2023-03-08T14:05:57.801Z"
   },
   {
    "duration": 15,
    "start_time": "2023-03-08T14:05:57.854Z"
   },
   {
    "duration": 12,
    "start_time": "2023-03-08T14:05:57.870Z"
   },
   {
    "duration": 16,
    "start_time": "2023-03-08T14:05:57.884Z"
   },
   {
    "duration": 16,
    "start_time": "2023-03-08T14:05:57.901Z"
   },
   {
    "duration": 16,
    "start_time": "2023-03-08T14:05:57.930Z"
   },
   {
    "duration": 90,
    "start_time": "2023-03-08T14:05:57.948Z"
   },
   {
    "duration": 96,
    "start_time": "2023-03-08T14:05:58.040Z"
   },
   {
    "duration": 193,
    "start_time": "2023-03-08T14:05:58.139Z"
   },
   {
    "duration": 97,
    "start_time": "2023-03-08T14:05:58.335Z"
   },
   {
    "duration": 7,
    "start_time": "2023-03-08T14:05:58.434Z"
   },
   {
    "duration": 6,
    "start_time": "2023-03-08T14:05:58.442Z"
   },
   {
    "duration": 6,
    "start_time": "2023-03-08T14:05:58.450Z"
   },
   {
    "duration": 7,
    "start_time": "2023-03-08T14:05:58.457Z"
   },
   {
    "duration": 5,
    "start_time": "2023-03-08T14:05:58.465Z"
   },
   {
    "duration": 8,
    "start_time": "2023-03-08T14:05:58.472Z"
   },
   {
    "duration": 9,
    "start_time": "2023-03-08T14:05:58.481Z"
   },
   {
    "duration": 15,
    "start_time": "2023-03-08T14:05:58.492Z"
   },
   {
    "duration": 4,
    "start_time": "2023-03-08T14:05:58.530Z"
   },
   {
    "duration": 6,
    "start_time": "2023-03-08T14:05:58.536Z"
   },
   {
    "duration": 5,
    "start_time": "2023-03-08T14:05:58.544Z"
   },
   {
    "duration": 1765,
    "start_time": "2023-03-08T14:05:58.551Z"
   },
   {
    "duration": 1512,
    "start_time": "2023-03-08T14:06:00.317Z"
   },
   {
    "duration": 1498,
    "start_time": "2023-03-08T14:06:01.832Z"
   },
   {
    "duration": 3,
    "start_time": "2023-03-08T14:11:03.823Z"
   },
   {
    "duration": 4,
    "start_time": "2023-03-08T14:11:08.303Z"
   },
   {
    "duration": 1139,
    "start_time": "2023-03-08T14:12:35.513Z"
   },
   {
    "duration": 426,
    "start_time": "2023-03-08T14:12:36.655Z"
   },
   {
    "duration": 17,
    "start_time": "2023-03-08T14:12:37.083Z"
   },
   {
    "duration": 13,
    "start_time": "2023-03-08T14:12:37.102Z"
   },
   {
    "duration": 50,
    "start_time": "2023-03-08T14:12:37.117Z"
   },
   {
    "duration": 15,
    "start_time": "2023-03-08T14:12:37.169Z"
   },
   {
    "duration": 11,
    "start_time": "2023-03-08T14:12:37.186Z"
   },
   {
    "duration": 36,
    "start_time": "2023-03-08T14:12:37.198Z"
   },
   {
    "duration": 15,
    "start_time": "2023-03-08T14:12:37.236Z"
   },
   {
    "duration": 22,
    "start_time": "2023-03-08T14:12:37.254Z"
   },
   {
    "duration": 57,
    "start_time": "2023-03-08T14:12:37.278Z"
   },
   {
    "duration": 106,
    "start_time": "2023-03-08T14:12:37.338Z"
   },
   {
    "duration": 194,
    "start_time": "2023-03-08T14:12:37.447Z"
   },
   {
    "duration": 187,
    "start_time": "2023-03-08T14:12:37.644Z"
   },
   {
    "duration": 7,
    "start_time": "2023-03-08T14:12:37.833Z"
   },
   {
    "duration": 8,
    "start_time": "2023-03-08T14:12:37.842Z"
   },
   {
    "duration": 4,
    "start_time": "2023-03-08T14:12:37.852Z"
   },
   {
    "duration": 6,
    "start_time": "2023-03-08T14:12:37.857Z"
   },
   {
    "duration": 5,
    "start_time": "2023-03-08T14:12:37.865Z"
   },
   {
    "duration": 19,
    "start_time": "2023-03-08T14:12:37.871Z"
   },
   {
    "duration": 16,
    "start_time": "2023-03-08T14:12:37.891Z"
   },
   {
    "duration": 1766,
    "start_time": "2023-03-08T14:12:37.909Z"
   },
   {
    "duration": 1498,
    "start_time": "2023-03-08T14:12:39.677Z"
   },
   {
    "duration": 1524,
    "start_time": "2023-03-08T14:12:41.177Z"
   },
   {
    "duration": 7139,
    "start_time": "2023-03-09T08:36:14.176Z"
   },
   {
    "duration": 398,
    "start_time": "2023-03-09T08:36:21.318Z"
   },
   {
    "duration": 17,
    "start_time": "2023-03-09T08:36:21.717Z"
   },
   {
    "duration": 23,
    "start_time": "2023-03-09T08:36:21.736Z"
   },
   {
    "duration": 51,
    "start_time": "2023-03-09T08:36:21.761Z"
   },
   {
    "duration": 14,
    "start_time": "2023-03-09T08:36:21.813Z"
   },
   {
    "duration": 6,
    "start_time": "2023-03-09T08:36:21.828Z"
   },
   {
    "duration": 27,
    "start_time": "2023-03-09T08:36:21.835Z"
   },
   {
    "duration": 17,
    "start_time": "2023-03-09T08:36:21.864Z"
   },
   {
    "duration": 23,
    "start_time": "2023-03-09T08:36:21.883Z"
   },
   {
    "duration": 54,
    "start_time": "2023-03-09T08:36:21.907Z"
   },
   {
    "duration": 97,
    "start_time": "2023-03-09T08:36:21.963Z"
   },
   {
    "duration": 196,
    "start_time": "2023-03-09T08:36:22.063Z"
   },
   {
    "duration": 100,
    "start_time": "2023-03-09T08:36:22.263Z"
   },
   {
    "duration": 11,
    "start_time": "2023-03-09T08:36:22.365Z"
   },
   {
    "duration": 7,
    "start_time": "2023-03-09T08:36:22.377Z"
   },
   {
    "duration": 6,
    "start_time": "2023-03-09T08:36:22.385Z"
   },
   {
    "duration": 26,
    "start_time": "2023-03-09T08:36:22.392Z"
   },
   {
    "duration": 9,
    "start_time": "2023-03-09T08:36:22.420Z"
   },
   {
    "duration": 10,
    "start_time": "2023-03-09T08:36:22.430Z"
   },
   {
    "duration": 9,
    "start_time": "2023-03-09T08:36:22.442Z"
   },
   {
    "duration": 1707,
    "start_time": "2023-03-09T08:36:22.453Z"
   },
   {
    "duration": 1557,
    "start_time": "2023-03-09T08:36:24.162Z"
   },
   {
    "duration": 1480,
    "start_time": "2023-03-09T08:36:25.720Z"
   },
   {
    "duration": 89,
    "start_time": "2023-03-09T08:38:00.687Z"
   },
   {
    "duration": 5,
    "start_time": "2023-03-09T08:38:03.047Z"
   },
   {
    "duration": 1487,
    "start_time": "2023-03-09T08:38:03.429Z"
   },
   {
    "duration": 1548,
    "start_time": "2023-03-09T08:38:04.918Z"
   },
   {
    "duration": 1579,
    "start_time": "2023-03-09T08:38:06.468Z"
   },
   {
    "duration": 4,
    "start_time": "2023-03-09T08:38:12.785Z"
   },
   {
    "duration": 1175,
    "start_time": "2023-03-09T10:56:16.006Z"
   },
   {
    "duration": 1566,
    "start_time": "2023-03-09T10:56:20.472Z"
   },
   {
    "duration": 69,
    "start_time": "2023-03-09T10:56:23.083Z"
   },
   {
    "duration": 64,
    "start_time": "2023-03-09T10:56:42.378Z"
   },
   {
    "duration": 3,
    "start_time": "2023-03-09T10:57:21.827Z"
   },
   {
    "duration": 24,
    "start_time": "2023-03-09T10:57:30.848Z"
   },
   {
    "duration": 4,
    "start_time": "2023-03-09T10:59:19.866Z"
   },
   {
    "duration": 23,
    "start_time": "2023-03-09T10:59:21.248Z"
   },
   {
    "duration": 3,
    "start_time": "2023-03-09T10:59:24.828Z"
   },
   {
    "duration": 23,
    "start_time": "2023-03-09T10:59:25.154Z"
   },
   {
    "duration": 3,
    "start_time": "2023-03-09T10:59:35.397Z"
   },
   {
    "duration": 24,
    "start_time": "2023-03-09T10:59:35.704Z"
   },
   {
    "duration": 24,
    "start_time": "2023-03-09T10:59:50.316Z"
   },
   {
    "duration": 23,
    "start_time": "2023-03-09T11:00:08.039Z"
   },
   {
    "duration": 23,
    "start_time": "2023-03-09T11:00:11.851Z"
   },
   {
    "duration": 1029,
    "start_time": "2023-03-09T11:00:39.613Z"
   },
   {
    "duration": 329,
    "start_time": "2023-03-09T11:00:40.644Z"
   },
   {
    "duration": 3,
    "start_time": "2023-03-09T11:00:40.975Z"
   },
   {
    "duration": 29,
    "start_time": "2023-03-09T11:00:40.979Z"
   },
   {
    "duration": 23,
    "start_time": "2023-03-09T11:00:41.009Z"
   },
   {
    "duration": 39,
    "start_time": "2023-03-09T11:00:41.034Z"
   },
   {
    "duration": 2,
    "start_time": "2023-03-09T13:38:01.524Z"
   },
   {
    "duration": 3,
    "start_time": "2023-03-09T13:38:01.995Z"
   },
   {
    "duration": 13,
    "start_time": "2023-03-09T13:38:12.610Z"
   },
   {
    "duration": 2,
    "start_time": "2023-03-09T13:38:13.875Z"
   },
   {
    "duration": 12,
    "start_time": "2023-03-09T13:38:14.290Z"
   },
   {
    "duration": 13,
    "start_time": "2023-03-09T13:38:14.553Z"
   },
   {
    "duration": 13,
    "start_time": "2023-03-09T13:38:14.823Z"
   },
   {
    "duration": 15,
    "start_time": "2023-03-09T13:40:27.438Z"
   },
   {
    "duration": 10,
    "start_time": "2023-03-09T13:42:00.502Z"
   },
   {
    "duration": 11,
    "start_time": "2023-03-09T13:42:16.172Z"
   },
   {
    "duration": 9,
    "start_time": "2023-03-09T13:42:26.641Z"
   },
   {
    "duration": 115,
    "start_time": "2023-03-09T13:45:39.611Z"
   },
   {
    "duration": 3,
    "start_time": "2023-03-09T13:45:42.096Z"
   },
   {
    "duration": 4,
    "start_time": "2023-03-09T13:45:42.321Z"
   },
   {
    "duration": 3,
    "start_time": "2023-03-09T13:45:49.598Z"
   },
   {
    "duration": 4,
    "start_time": "2023-03-09T13:45:49.763Z"
   },
   {
    "duration": 3,
    "start_time": "2023-03-09T13:46:15.392Z"
   },
   {
    "duration": 4,
    "start_time": "2023-03-09T13:46:15.540Z"
   },
   {
    "duration": 4,
    "start_time": "2023-03-09T13:47:39.565Z"
   },
   {
    "duration": 4,
    "start_time": "2023-03-09T13:47:40.066Z"
   },
   {
    "duration": 5,
    "start_time": "2023-03-09T13:50:57.260Z"
   },
   {
    "duration": 1044,
    "start_time": "2023-03-09T13:53:57.058Z"
   },
   {
    "duration": 1497,
    "start_time": "2023-03-09T13:53:58.104Z"
   },
   {
    "duration": 3,
    "start_time": "2023-03-09T13:53:59.603Z"
   },
   {
    "duration": 35,
    "start_time": "2023-03-09T13:53:59.608Z"
   },
   {
    "duration": 33,
    "start_time": "2023-03-09T13:53:59.645Z"
   },
   {
    "duration": 26,
    "start_time": "2023-03-09T13:53:59.680Z"
   },
   {
    "duration": 16,
    "start_time": "2023-03-09T13:53:59.707Z"
   },
   {
    "duration": 3,
    "start_time": "2023-03-09T13:53:59.725Z"
   },
   {
    "duration": 33,
    "start_time": "2023-03-09T13:53:59.730Z"
   },
   {
    "duration": 17,
    "start_time": "2023-03-09T13:53:59.766Z"
   },
   {
    "duration": 17,
    "start_time": "2023-03-09T13:53:59.784Z"
   },
   {
    "duration": 2,
    "start_time": "2023-03-09T13:53:59.803Z"
   },
   {
    "duration": 3,
    "start_time": "2023-03-09T13:53:59.806Z"
   },
   {
    "duration": 132,
    "start_time": "2023-03-09T13:53:59.811Z"
   },
   {
    "duration": 0,
    "start_time": "2023-03-09T13:53:59.945Z"
   },
   {
    "duration": 0,
    "start_time": "2023-03-09T13:53:59.946Z"
   },
   {
    "duration": 0,
    "start_time": "2023-03-09T13:53:59.955Z"
   },
   {
    "duration": 0,
    "start_time": "2023-03-09T13:53:59.956Z"
   },
   {
    "duration": 0,
    "start_time": "2023-03-09T13:53:59.957Z"
   },
   {
    "duration": 0,
    "start_time": "2023-03-09T13:53:59.958Z"
   },
   {
    "duration": 3,
    "start_time": "2023-03-09T13:54:39.909Z"
   },
   {
    "duration": 16,
    "start_time": "2023-03-09T13:54:40.461Z"
   },
   {
    "duration": 11,
    "start_time": "2023-03-09T13:54:41.055Z"
   },
   {
    "duration": 10,
    "start_time": "2023-03-09T13:54:41.293Z"
   },
   {
    "duration": 3,
    "start_time": "2023-03-09T13:54:42.414Z"
   },
   {
    "duration": 4,
    "start_time": "2023-03-09T13:54:42.610Z"
   },
   {
    "duration": 4,
    "start_time": "2023-03-09T13:54:42.795Z"
   },
   {
    "duration": 4,
    "start_time": "2023-03-09T13:54:43.488Z"
   },
   {
    "duration": 2,
    "start_time": "2023-03-09T13:57:41.970Z"
   },
   {
    "duration": 7,
    "start_time": "2023-03-09T13:57:42.709Z"
   },
   {
    "duration": 9,
    "start_time": "2023-03-09T13:58:07.657Z"
   },
   {
    "duration": 4,
    "start_time": "2023-03-09T14:13:54.866Z"
   },
   {
    "duration": 3,
    "start_time": "2023-03-09T14:14:00.634Z"
   },
   {
    "duration": 4,
    "start_time": "2023-03-09T14:14:31.517Z"
   },
   {
    "duration": 8,
    "start_time": "2023-03-09T14:14:33.097Z"
   },
   {
    "duration": 14,
    "start_time": "2023-03-09T14:15:31.313Z"
   },
   {
    "duration": 4,
    "start_time": "2023-03-09T14:15:47.868Z"
   },
   {
    "duration": 17,
    "start_time": "2023-03-09T14:15:49.736Z"
   },
   {
    "duration": 8,
    "start_time": "2023-03-09T14:21:41.370Z"
   },
   {
    "duration": 9,
    "start_time": "2023-03-09T14:21:56.187Z"
   },
   {
    "duration": 10,
    "start_time": "2023-03-09T14:22:00.122Z"
   },
   {
    "duration": 4,
    "start_time": "2023-03-09T14:22:05.093Z"
   },
   {
    "duration": 15,
    "start_time": "2023-03-09T14:22:06.121Z"
   },
   {
    "duration": 3,
    "start_time": "2023-03-09T14:24:24.369Z"
   },
   {
    "duration": 3,
    "start_time": "2023-03-09T14:24:24.675Z"
   },
   {
    "duration": 4,
    "start_time": "2023-03-09T14:24:25.020Z"
   },
   {
    "duration": 1689,
    "start_time": "2023-03-09T14:24:25.809Z"
   },
   {
    "duration": 1260,
    "start_time": "2023-03-09T14:24:59.575Z"
   },
   {
    "duration": 1299,
    "start_time": "2023-03-09T14:25:46.501Z"
   },
   {
    "duration": 1248,
    "start_time": "2023-03-09T14:25:48.470Z"
   },
   {
    "duration": 1363,
    "start_time": "2023-03-09T14:25:50.452Z"
   },
   {
    "duration": 3,
    "start_time": "2023-03-09T14:51:24.624Z"
   },
   {
    "duration": 3,
    "start_time": "2023-03-09T14:51:26.118Z"
   },
   {
    "duration": 3,
    "start_time": "2023-03-09T14:53:49.424Z"
   },
   {
    "duration": 4,
    "start_time": "2023-03-09T14:54:10.454Z"
   },
   {
    "duration": 4,
    "start_time": "2023-03-09T14:54:11.364Z"
   },
   {
    "duration": 1129,
    "start_time": "2023-03-09T14:54:12.322Z"
   },
   {
    "duration": 4,
    "start_time": "2023-03-09T14:55:09.818Z"
   },
   {
    "duration": 4,
    "start_time": "2023-03-09T14:55:10.170Z"
   },
   {
    "duration": 1268,
    "start_time": "2023-03-09T14:55:13.889Z"
   },
   {
    "duration": 4,
    "start_time": "2023-03-09T14:55:29.348Z"
   },
   {
    "duration": 4,
    "start_time": "2023-03-09T14:55:30.302Z"
   },
   {
    "duration": 1139,
    "start_time": "2023-03-09T14:55:31.521Z"
   },
   {
    "duration": 4,
    "start_time": "2023-03-09T14:55:44.052Z"
   },
   {
    "duration": 5,
    "start_time": "2023-03-09T14:55:44.609Z"
   },
   {
    "duration": 1144,
    "start_time": "2023-03-09T14:55:45.391Z"
   },
   {
    "duration": 3,
    "start_time": "2023-03-09T14:55:59.438Z"
   },
   {
    "duration": 3,
    "start_time": "2023-03-09T14:55:59.911Z"
   },
   {
    "duration": 1237,
    "start_time": "2023-03-09T14:56:02.032Z"
   },
   {
    "duration": 1233,
    "start_time": "2023-03-09T14:56:40.265Z"
   },
   {
    "duration": 1226,
    "start_time": "2023-03-09T14:56:45.766Z"
   },
   {
    "duration": 1264,
    "start_time": "2023-03-09T17:09:18.193Z"
   },
   {
    "duration": 398,
    "start_time": "2023-03-09T17:09:19.459Z"
   },
   {
    "duration": 3,
    "start_time": "2023-03-09T17:09:19.859Z"
   },
   {
    "duration": 30,
    "start_time": "2023-03-09T17:09:19.864Z"
   },
   {
    "duration": 26,
    "start_time": "2023-03-09T17:09:19.895Z"
   },
   {
    "duration": 33,
    "start_time": "2023-03-09T17:09:19.922Z"
   },
   {
    "duration": 14,
    "start_time": "2023-03-09T17:09:19.957Z"
   },
   {
    "duration": 4,
    "start_time": "2023-03-09T17:09:19.973Z"
   },
   {
    "duration": 13,
    "start_time": "2023-03-09T17:09:19.978Z"
   },
   {
    "duration": 14,
    "start_time": "2023-03-09T17:09:19.994Z"
   },
   {
    "duration": 48,
    "start_time": "2023-03-09T17:09:20.009Z"
   },
   {
    "duration": 2,
    "start_time": "2023-03-09T17:09:20.059Z"
   },
   {
    "duration": 5,
    "start_time": "2023-03-09T17:09:20.063Z"
   },
   {
    "duration": 16,
    "start_time": "2023-03-09T17:09:20.069Z"
   },
   {
    "duration": 169,
    "start_time": "2023-03-09T17:09:20.086Z"
   },
   {
    "duration": 99,
    "start_time": "2023-03-09T17:09:20.257Z"
   },
   {
    "duration": 4,
    "start_time": "2023-03-09T17:09:20.359Z"
   },
   {
    "duration": 95,
    "start_time": "2023-03-09T17:09:20.365Z"
   },
   {
    "duration": 5,
    "start_time": "2023-03-09T17:09:20.462Z"
   },
   {
    "duration": 85,
    "start_time": "2023-03-09T17:09:20.471Z"
   },
   {
    "duration": 2,
    "start_time": "2023-03-09T17:09:20.558Z"
   },
   {
    "duration": 122,
    "start_time": "2023-03-09T17:09:20.562Z"
   },
   {
    "duration": 0,
    "start_time": "2023-03-09T17:09:20.686Z"
   },
   {
    "duration": 0,
    "start_time": "2023-03-09T17:09:20.688Z"
   },
   {
    "duration": 0,
    "start_time": "2023-03-09T17:09:20.689Z"
   },
   {
    "duration": 0,
    "start_time": "2023-03-09T17:09:20.690Z"
   },
   {
    "duration": 0,
    "start_time": "2023-03-09T17:09:20.691Z"
   },
   {
    "duration": 0,
    "start_time": "2023-03-09T17:09:20.692Z"
   },
   {
    "duration": 0,
    "start_time": "2023-03-09T17:09:20.694Z"
   },
   {
    "duration": 1342,
    "start_time": "2023-03-09T17:10:21.080Z"
   },
   {
    "duration": 391,
    "start_time": "2023-03-09T17:10:22.424Z"
   },
   {
    "duration": 4,
    "start_time": "2023-03-09T17:10:22.816Z"
   },
   {
    "duration": 51,
    "start_time": "2023-03-09T17:10:22.821Z"
   },
   {
    "duration": 27,
    "start_time": "2023-03-09T17:10:22.876Z"
   },
   {
    "duration": 26,
    "start_time": "2023-03-09T17:10:22.904Z"
   },
   {
    "duration": 41,
    "start_time": "2023-03-09T17:10:22.932Z"
   },
   {
    "duration": 4,
    "start_time": "2023-03-09T17:10:22.975Z"
   },
   {
    "duration": 19,
    "start_time": "2023-03-09T17:10:22.981Z"
   },
   {
    "duration": 22,
    "start_time": "2023-03-09T17:10:23.002Z"
   },
   {
    "duration": 49,
    "start_time": "2023-03-09T17:10:23.027Z"
   },
   {
    "duration": 3,
    "start_time": "2023-03-09T17:10:23.078Z"
   },
   {
    "duration": 4,
    "start_time": "2023-03-09T17:10:23.083Z"
   },
   {
    "duration": 74,
    "start_time": "2023-03-09T17:10:23.090Z"
   },
   {
    "duration": 17,
    "start_time": "2023-03-09T17:10:23.166Z"
   },
   {
    "duration": 178,
    "start_time": "2023-03-09T17:10:23.186Z"
   },
   {
    "duration": 8,
    "start_time": "2023-03-09T17:10:23.374Z"
   },
   {
    "duration": 77,
    "start_time": "2023-03-09T17:10:23.386Z"
   },
   {
    "duration": 9,
    "start_time": "2023-03-09T17:10:23.465Z"
   },
   {
    "duration": 19,
    "start_time": "2023-03-09T17:10:23.479Z"
   },
   {
    "duration": 3,
    "start_time": "2023-03-09T17:10:23.499Z"
   },
   {
    "duration": 11,
    "start_time": "2023-03-09T17:10:23.503Z"
   },
   {
    "duration": 3,
    "start_time": "2023-03-09T17:10:23.516Z"
   },
   {
    "duration": 55,
    "start_time": "2023-03-09T17:10:23.520Z"
   },
   {
    "duration": 4,
    "start_time": "2023-03-09T17:10:23.578Z"
   },
   {
    "duration": 5,
    "start_time": "2023-03-09T17:10:23.583Z"
   },
   {
    "duration": 131,
    "start_time": "2023-03-09T17:10:23.589Z"
   },
   {
    "duration": 0,
    "start_time": "2023-03-09T17:10:23.721Z"
   },
   {
    "duration": 0,
    "start_time": "2023-03-09T17:10:23.723Z"
   },
   {
    "duration": 1392,
    "start_time": "2023-03-09T17:10:38.494Z"
   },
   {
    "duration": 14,
    "start_time": "2023-03-09T17:10:41.200Z"
   },
   {
    "duration": 1396,
    "start_time": "2023-03-09T17:10:47.208Z"
   },
   {
    "duration": 1425,
    "start_time": "2023-03-09T17:10:55.643Z"
   }
  ],
  "kernelspec": {
   "display_name": "Python 3 (ipykernel)",
   "language": "python",
   "name": "python3"
  },
  "language_info": {
   "codemirror_mode": {
    "name": "ipython",
    "version": 3
   },
   "file_extension": ".py",
   "mimetype": "text/x-python",
   "name": "python",
   "nbconvert_exporter": "python",
   "pygments_lexer": "ipython3",
   "version": "3.9.21"
  },
  "toc": {
   "base_numbering": 1,
   "nav_menu": {},
   "number_sections": true,
   "sideBar": true,
   "skip_h1_title": true,
   "title_cell": "Содержание",
   "title_sidebar": "Contents",
   "toc_cell": true,
   "toc_position": {
    "height": "calc(100% - 180px)",
    "left": "10px",
    "top": "150px",
    "width": "660.594px"
   },
   "toc_section_display": true,
   "toc_window_display": false
  }
 },
 "nbformat": 4,
 "nbformat_minor": 4
}
